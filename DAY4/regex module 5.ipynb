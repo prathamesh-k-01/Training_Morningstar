{
 "cells": [
  {
   "cell_type": "code",
   "execution_count": 1,
   "id": "881ccd7f",
   "metadata": {},
   "outputs": [],
   "source": [
    "#Regular Expressions (Regex)\n",
    "#Regular #expressions are sequences of characters that form a search pattern. \n",
    "#They are often used for string matching and manipulation.\n",
    "\n",
    "#Compiling a Pattern\n",
    "#In Python, you can compile a regular expression pattern using the re.compile() function. \n",
    "#This allows you to reuse the same pattern multiple times efficiently.\n"
   ]
  },
  {
   "cell_type": "code",
   "execution_count": 3,
   "id": "81d7893c",
   "metadata": {},
   "outputs": [],
   "source": [
    "import re\n",
    "\n",
    "pattern = re.compile(r'\\d+')  # Matches one or more digits\n",
    "\n",
    "\n",
    "#In this example, \\d+ is a regex pattern that matches one or more digits.\n",
    "#The r before the string denotes a raw string, which we will discuss later."
   ]
  },
  {
   "cell_type": "code",
   "execution_count": 4,
   "id": "4b16d69d",
   "metadata": {},
   "outputs": [
    {
     "name": "stdout",
     "output_type": "stream",
     "text": [
      "HeLLo\n"
     ]
    }
   ],
   "source": [
    "#Flags - ignorecase, dotall\n",
    "#Flags modify the behavior of regex matching. Two common flags are re.IGNORECASE and re.DOTALL.\n",
    "\n",
    "#re.IGNORECASE or re.I: Ignores case when matching.\n",
    "\n",
    "pattern = re.compile(r'hello', re.IGNORECASE)\n",
    "result = pattern.search('HeLLo world')\n",
    "print(result.group())  # Outputs: 'HeLLo'\n",
    "  "
   ]
  },
  {
   "cell_type": "code",
   "execution_count": 5,
   "id": "fd8e9c61",
   "metadata": {},
   "outputs": [
    {
     "name": "stdout",
     "output_type": "stream",
     "text": [
      "hello\n",
      "world\n"
     ]
    }
   ],
   "source": [
    "#re.DOTALL or re.S: Allows the dot (.) to match newline characters.\n",
    "pattern = re.compile(r'hello.world', re.DOTALL)\n",
    "result = pattern.search('hello\\nworld')\n",
    "print(result.group())  # Outputs: 'hello\\nworld'\n"
   ]
  },
  {
   "cell_type": "code",
   "execution_count": 6,
   "id": "62aeb79d",
   "metadata": {},
   "outputs": [
    {
     "name": "stdout",
     "output_type": "stream",
     "text": [
      "HeLLo\n",
      "world\n"
     ]
    }
   ],
   "source": [
    "#Working with Multiple Flags\n",
    "#You can combine flags using the bitwise OR operator (|).\n",
    "pattern = re.compile(r'hello.world', re.IGNORECASE | re.DOTALL)\n",
    "result = pattern.search('HeLLo\\nworld')\n",
    "print(result.group())  # Outputs: 'HeLLo\\nworld'\n"
   ]
  },
  {
   "cell_type": "code",
   "execution_count": 7,
   "id": "67bc5647",
   "metadata": {},
   "outputs": [
    {
     "name": "stdout",
     "output_type": "stream",
     "text": [
      "123\n"
     ]
    }
   ],
   "source": [
    "#Search vs Match\n",
    "#re.search(): Searches for the pattern anywhere in the string.\n",
    "result = re.search(r'\\d+', 'abc 123 def')\n",
    "print(result.group())  # Outputs: '123'\n"
   ]
  },
  {
   "cell_type": "code",
   "execution_count": 8,
   "id": "d4e96bd1",
   "metadata": {},
   "outputs": [
    {
     "name": "stdout",
     "output_type": "stream",
     "text": [
      "123\n",
      "None\n"
     ]
    }
   ],
   "source": [
    "#re.match(): Only matches if the pattern is at the beginning of the string.\n",
    "result = re.match(r'\\d+', '123 def')\n",
    "print(result.group())  # Outputs: '123'\n",
    "\n",
    "result = re.match(r'\\d+', 'abc 123 def')\n",
    "print(result)  # Outputs: None\n"
   ]
  },
  {
   "cell_type": "code",
   "execution_count": 9,
   "id": "cb836bc6",
   "metadata": {},
   "outputs": [
    {
     "name": "stdout",
     "output_type": "stream",
     "text": [
      "123\n"
     ]
    }
   ],
   "source": [
    "#Raw String Notations\n",
    "#Raw strings (r'string') treat backslashes as literal characters, which is useful in regex patterns.\n",
    "pattern = re.compile(r'\\d+')  # Raw string notation\n",
    "result = pattern.search('abc 123 def')\n",
    "print(result.group())  # Outputs: '123'\n"
   ]
  },
  {
   "cell_type": "code",
   "execution_count": 10,
   "id": "c5ad4f5b",
   "metadata": {},
   "outputs": [],
   "source": [
    "#Without raw strings, you'd need to escape backslashes, making patterns harder to read:\n",
    "pattern = re.compile('\\\\d+')\n"
   ]
  },
  {
   "cell_type": "markdown",
   "id": "f8478ca6",
   "metadata": {},
   "source": [
    "Special Characters\n",
    ".: Matches any character except a newline.\n",
    "^: Matches the start of the string.\n",
    "$: Matches the end of the string.\n",
    "*: Matches 0 or more repetitions of the preceding element.\n",
    "+: Matches 1 or more repetitions of the preceding element.\n",
    "?: Matches 0 or 1 repetition of the preceding element.\n",
    "{m,n}: Matches from m to n repetitions of the preceding element."
   ]
  },
  {
   "cell_type": "code",
   "execution_count": 11,
   "id": "e12df680",
   "metadata": {},
   "outputs": [],
   "source": [
    "pattern = re.compile(r'.')  # Matches any character except newline\n",
    "pattern = re.compile(r'^hello')  # Matches 'hello' at the start of the string\n",
    "pattern = re.compile(r'world$')  # Matches 'world' at the end of the string\n",
    "pattern = re.compile(r'a*')  # Matches 0 or more 'a' characters\n",
    "pattern = re.compile(r'a+')  # Matches 1 or more 'a' characters\n",
    "pattern = re.compile(r'a?')  # Matches 0 or 1 'a' character\n",
    "pattern = re.compile(r'a{2,4}')  # Matches between 2 and 4 'a' characters\n"
   ]
  },
  {
   "cell_type": "markdown",
   "id": "34e8e090",
   "metadata": {},
   "source": [
    "Globbing Characters\n",
    "Globbing characters are often used in file path patterns. While not strictly regex, they are similar:\n",
    "\n",
    "*: Matches any number of any characters.\n",
    "?: Matches any single character."
   ]
  },
  {
   "cell_type": "code",
   "execution_count": 12,
   "id": "ef935b28",
   "metadata": {},
   "outputs": [],
   "source": [
    "import glob\n",
    "\n",
    "files = glob.glob('*.txt')  # Matches all .txt files in the current directory\n"
   ]
  },
  {
   "cell_type": "code",
   "execution_count": 13,
   "id": "3b9e9b71",
   "metadata": {},
   "outputs": [
    {
     "data": {
      "text/plain": [
       "'Anchors\\n^: Start of a string.\\n$: End of a string.\\n\\x08: Word boundary.\\n\\\\B: Not a word boundary.\\n'"
      ]
     },
     "execution_count": 13,
     "metadata": {},
     "output_type": "execute_result"
    }
   ],
   "source": [
    "\"\"\"Anchors\n",
    "^: Start of a string.\n",
    "$: End of a string.\n",
    "\\b: Word boundary.\n",
    "\\B: Not a word boundary.\n",
    "\"\"\""
   ]
  },
  {
   "cell_type": "code",
   "execution_count": 14,
   "id": "5ef84fec",
   "metadata": {},
   "outputs": [],
   "source": [
    "pattern = re.compile(r'^\\d+$')  # Matches a string composed entirely of digits\n"
   ]
  },
  {
   "cell_type": "code",
   "execution_count": 15,
   "id": "5755ea41",
   "metadata": {},
   "outputs": [
    {
     "name": "stdout",
     "output_type": "stream",
     "text": [
      "e\n"
     ]
    }
   ],
   "source": [
    "#Character Sets\n",
    "#Character sets allow you to match one out of several characters.\n",
    "pattern = re.compile(r'[aeiou]')  # Matches any vowel\n",
    "result = pattern.search('hello')\n",
    "print(result.group())  # Outputs: 'e'\n"
   ]
  },
  {
   "cell_type": "code",
   "execution_count": 16,
   "id": "f6946351",
   "metadata": {},
   "outputs": [],
   "source": [
    "#You can also use ranges within character sets:"
   ]
  },
  {
   "cell_type": "code",
   "execution_count": 17,
   "id": "177d033c",
   "metadata": {},
   "outputs": [],
   "source": [
    "pattern = re.compile(r'[a-z]')  # Matches any lowercase letter\n"
   ]
  },
  {
   "cell_type": "code",
   "execution_count": 18,
   "id": "1de4728a",
   "metadata": {},
   "outputs": [],
   "source": [
    "#Grouping\n",
    "#Grouping is done using parentheses (), allowing you to capture parts of the match."
   ]
  },
  {
   "cell_type": "code",
   "execution_count": 19,
   "id": "539cbb80",
   "metadata": {},
   "outputs": [
    {
     "name": "stdout",
     "output_type": "stream",
     "text": [
      "123\n",
      "456\n"
     ]
    }
   ],
   "source": [
    "pattern = re.compile(r'(\\d+)-(\\d+)')\n",
    "result = pattern.search('123-456')\n",
    "if result:\n",
    "    print(result.group(1))  # Outputs: '123'\n",
    "    print(result.group(2))  # Outputs: '456'\n"
   ]
  },
  {
   "cell_type": "code",
   "execution_count": 20,
   "id": "5cb0b0fb",
   "metadata": {},
   "outputs": [
    {
     "data": {
      "text/plain": [
       "\"\\nSummary\\nRegular expressions are powerful tools for text processing. Here are the key concepts:\\n\\nCompiling a Pattern: Use re.compile() for efficiency.\\nFlags: Modify regex behavior (re.IGNORECASE, re.DOTALL).\\nSearch vs Match: re.search() finds patterns anywhere; re.match() only at the start.\\nRaw Strings: Use r'' for regex patterns to avoid escaping backslashes.\\nSpecial Characters: Understand ., ^, $, *, +, ?, {m,n}.\\nGlobbing: Use * and ? for file path patterns.\\nAnchors: Use ^, $, \\x08, \\\\B to anchor patterns.\\nCharacter Sets: Use [] to match specific characters.\\nGrouping: Use () to capture groups in patterns.\""
      ]
     },
     "execution_count": 20,
     "metadata": {},
     "output_type": "execute_result"
    }
   ],
   "source": [
    "\"\"\"\n",
    "Summary\n",
    "Regular expressions are powerful tools for text processing. Here are the key concepts:\n",
    "\n",
    "Compiling a Pattern: Use re.compile() for efficiency.\n",
    "Flags: Modify regex behavior (re.IGNORECASE, re.DOTALL).\n",
    "Search vs Match: re.search() finds patterns anywhere; re.match() only at the start.\n",
    "Raw Strings: Use r'' for regex patterns to avoid escaping backslashes.\n",
    "Special Characters: Understand ., ^, $, *, +, ?, {m,n}.\n",
    "Globbing: Use * and ? for file path patterns.\n",
    "Anchors: Use ^, $, \\b, \\B to anchor patterns.\n",
    "Character Sets: Use [] to match specific characters.\n",
    "Grouping: Use () to capture groups in patterns.\"\"\""
   ]
  },
  {
   "cell_type": "code",
   "execution_count": 21,
   "id": "4cea8d57",
   "metadata": {},
   "outputs": [
    {
     "data": {
      "text/plain": [
       "'\\nScenario: Log File Analysis\\nYou are a software engineer working for a company that maintains a large web application.\\nThe application logs various events to log files, and your task is to analyze these log files \\nto extract useful information. The log files contain lines with the following format:\\n\\n'"
      ]
     },
     "execution_count": 21,
     "metadata": {},
     "output_type": "execute_result"
    }
   ],
   "source": [
    "\"\"\"\n",
    "Scenario: Log File Analysis\n",
    "You are a software engineer working for a company that maintains a large web application.\n",
    "The application logs various events to log files, and your task is to analyze these log files \n",
    "to extract useful information. The log files contain lines with the following format:\n",
    "\n",
    "\"\"\""
   ]
  },
  {
   "cell_type": "code",
   "execution_count": 22,
   "id": "f648fb4f",
   "metadata": {},
   "outputs": [
    {
     "name": "stdout",
     "output_type": "stream",
     "text": [
      "['2024-07-18 10:23:45', '2024-07-18 10:24:00', '2024-07-18 10:25:30', '2024-07-18 10:27:15']\n"
     ]
    }
   ],
   "source": [
    "#Task 1: Extracting All Timestamps\n",
    "#Write a Python function to extract all timestamps from the log file.\n",
    "import re\n",
    "\n",
    "log_data = \"\"\"\n",
    "[2024-07-18 10:23:45] [ERROR] [Authentication] User login failed\n",
    "[2024-07-18 10:24:00] [INFO] [Payment] Payment processed successfully\n",
    "[2024-07-18 10:25:30] [WARNING] [Database] Connection timeout\n",
    "[2024-07-18 10:27:15] [INFO] [Authentication] User login succeeded\n",
    "\"\"\"\n",
    "\n",
    "def extract_timestamps(log_data):\n",
    "    pattern = re.compile(r'\\[(\\d{4}-\\d{2}-\\d{2} \\d{2}:\\d{2}:\\d{2})\\]')\n",
    "    return pattern.findall(log_data)\n",
    "\n",
    "timestamps = extract_timestamps(log_data)\n",
    "print(timestamps)\n"
   ]
  },
  {
   "cell_type": "code",
   "execution_count": 23,
   "id": "02bff593",
   "metadata": {},
   "outputs": [
    {
     "name": "stdout",
     "output_type": "stream",
     "text": [
      "{'ERROR': 1, 'INFO': 2, 'WARNING': 1}\n"
     ]
    }
   ],
   "source": [
    "#Task 2: Counting Different Log Levels\n",
    "#Write a Python function to count the number of occurrences of each log level (ERROR, INFO, WARNING).\n",
    "def count_log_levels(log_data):\n",
    "    pattern = re.compile(r'\\[(ERROR|INFO|WARNING)\\]')\n",
    "    matches = pattern.findall(log_data)\n",
    "    return {level: matches.count(level) for level in set(matches)}\n",
    "\n",
    "log_levels_count = count_log_levels(log_data)\n",
    "print(log_levels_count)\n"
   ]
  },
  {
   "cell_type": "code",
   "execution_count": 24,
   "id": "73f9d670",
   "metadata": {},
   "outputs": [
    {
     "name": "stdout",
     "output_type": "stream",
     "text": [
      "['User login failed', 'User login succeeded']\n"
     ]
    }
   ],
   "source": [
    "#Task 3: Extracting Messages from a Specific Module\n",
    "#Write a Python function to extract all log messages from a specific module (e.g., \"Authentication\").\n",
    "def extract_module_messages(log_data, module_name):\n",
    "    pattern = re.compile(r'\\[.*?\\] \\[.*?\\] \\[' + re.escape(module_name) + r'\\] (.*)')\n",
    "    return pattern.findall(log_data)\n",
    "\n",
    "auth_messages = extract_module_messages(log_data, 'Authentication')\n",
    "print(auth_messages)\n"
   ]
  },
  {
   "cell_type": "code",
   "execution_count": 25,
   "id": "7171a5b6",
   "metadata": {},
   "outputs": [
    {
     "name": "stdout",
     "output_type": "stream",
     "text": [
      "['2024-07-18 10:23:45']\n"
     ]
    }
   ],
   "source": [
    "#Task 4: Identifying and Extracting User Login Failures\n",
    "#Write a Python function to identify and extract the timestamps of all user login failures.\n",
    "def extract_login_failures(log_data):\n",
    "    pattern = re.compile(r'\\[(\\d{4}-\\d{2}-\\d{2} \\d{2}:\\d{2}:\\d{2})\\] \\[ERROR\\] \\[Authentication\\] User login failed')\n",
    "    return pattern.findall(log_data)\n",
    "\n",
    "login_failures = extract_login_failures(log_data)\n",
    "print(login_failures)\n"
   ]
  },
  {
   "cell_type": "code",
   "execution_count": 26,
   "id": "e358d525",
   "metadata": {},
   "outputs": [
    {
     "name": "stdout",
     "output_type": "stream",
     "text": [
      "{'2024-07-18': [{'log_level': 'ERROR', 'module': 'Authentication', 'message': 'User login failed'}, {'log_level': 'INFO', 'module': 'Payment', 'message': 'Payment processed successfully'}, {'log_level': 'WARNING', 'module': 'Database', 'message': 'Connection timeout'}, {'log_level': 'INFO', 'module': 'Authentication', 'message': 'User login succeeded'}]}\n"
     ]
    }
   ],
   "source": [
    "#Task 5: Extracting and Grouping Data\n",
    "#Write a Python function to extract all log data and group it by date.\n",
    "def group_logs_by_date(log_data):\n",
    "    pattern = re.compile(r'\\[(\\d{4}-\\d{2}-\\d{2}) \\d{2}:\\d{2}:\\d{2}\\] \\[(ERROR|INFO|WARNING)\\] \\[(.*?)\\] (.*)')\n",
    "    matches = pattern.findall(log_data)\n",
    "    logs_by_date = {}\n",
    "    for date, log_level, module, message in matches:\n",
    "        if date not in logs_by_date:\n",
    "            logs_by_date[date] = []\n",
    "        logs_by_date[date].append({'log_level': log_level, 'module': module, 'message': message})\n",
    "    return logs_by_date\n",
    "\n",
    "logs_grouped_by_date = group_logs_by_date(log_data)\n",
    "print(logs_grouped_by_date)\n"
   ]
  },
  {
   "cell_type": "code",
   "execution_count": null,
   "id": "6ca25563",
   "metadata": {},
   "outputs": [],
   "source": []
  }
 ],
 "metadata": {
  "kernelspec": {
   "display_name": "Python 3 (ipykernel)",
   "language": "python",
   "name": "python3"
  },
  "language_info": {
   "codemirror_mode": {
    "name": "ipython",
    "version": 3
   },
   "file_extension": ".py",
   "mimetype": "text/x-python",
   "name": "python",
   "nbconvert_exporter": "python",
   "pygments_lexer": "ipython3",
   "version": "3.11.5"
  }
 },
 "nbformat": 4,
 "nbformat_minor": 5
}
