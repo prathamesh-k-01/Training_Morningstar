{
 "cells": [
  {
   "cell_type": "code",
   "execution_count": 24,
   "metadata": {},
   "outputs": [],
   "source": [
    "import numpy as np"
   ]
  },
  {
   "cell_type": "code",
   "execution_count": 25,
   "metadata": {},
   "outputs": [
    {
     "name": "stdout",
     "output_type": "stream",
     "text": [
      "2\n",
      "(2, 3)\n"
     ]
    }
   ],
   "source": [
    "arr = np.array([[1,2,3], [4,5,6]])\n",
    "print(np.ndim(arr))\n",
    "print(np.shape(arr))"
   ]
  },
  {
   "cell_type": "code",
   "execution_count": 26,
   "metadata": {},
   "outputs": [
    {
     "data": {
      "text/plain": [
       "array([[1, 2],\n",
       "       [3, 4],\n",
       "       [5, 6]])"
      ]
     },
     "execution_count": 26,
     "metadata": {},
     "output_type": "execute_result"
    }
   ],
   "source": [
    "np.reshape(arr,[3,2])"
   ]
  },
  {
   "cell_type": "code",
   "execution_count": 27,
   "metadata": {},
   "outputs": [
    {
     "data": {
      "text/plain": [
       "21"
      ]
     },
     "execution_count": 27,
     "metadata": {},
     "output_type": "execute_result"
    }
   ],
   "source": [
    "arr.sum()"
   ]
  },
  {
   "cell_type": "code",
   "execution_count": 28,
   "metadata": {},
   "outputs": [
    {
     "data": {
      "text/plain": [
       "array([5, 7, 9])"
      ]
     },
     "execution_count": 28,
     "metadata": {},
     "output_type": "execute_result"
    }
   ],
   "source": [
    "arr.sum(axis=0)"
   ]
  },
  {
   "cell_type": "code",
   "execution_count": 29,
   "metadata": {},
   "outputs": [
    {
     "name": "stdout",
     "output_type": "stream",
     "text": [
      "3.5\n"
     ]
    }
   ],
   "source": [
    "print(np.mean(arr))"
   ]
  },
  {
   "cell_type": "code",
   "execution_count": 30,
   "metadata": {},
   "outputs": [
    {
     "data": {
      "text/plain": [
       "array([1, 2, 3, 4, 5, 6, 7, 8, 9])"
      ]
     },
     "execution_count": 30,
     "metadata": {},
     "output_type": "execute_result"
    }
   ],
   "source": [
    "np.arange(1,10)"
   ]
  },
  {
   "cell_type": "code",
   "execution_count": 31,
   "metadata": {},
   "outputs": [
    {
     "data": {
      "text/plain": [
       "array([ 1.  ,  3.25,  5.5 ,  7.75, 10.  ])"
      ]
     },
     "execution_count": 31,
     "metadata": {},
     "output_type": "execute_result"
    }
   ],
   "source": [
    "np.linspace(1,10,5)"
   ]
  },
  {
   "cell_type": "code",
   "execution_count": 41,
   "metadata": {},
   "outputs": [
    {
     "name": "stdout",
     "output_type": "stream",
     "text": [
      "[[2 2 2 2 2]\n",
      " [2 2 2 2 2]\n",
      " [2 2 2 2 2]\n",
      " [2 2 2 2 2]]\n",
      "(4, 5)\n",
      "2\n",
      "2.0\n",
      "[[2 2 2 2]\n",
      " [2 2 2 2]\n",
      " [2 2 2 2]\n",
      " [2 2 2 2]\n",
      " [2 2 2 2]]\n"
     ]
    }
   ],
   "source": [
    "# Crete a function that will allow you to create an array with 2n  rows and three columns find dimension shape, reshape in to opposite\n",
    "\n",
    "\n",
    "def nparrays(rows, column):\n",
    "    \n",
    "    a = np.array([[2]*column]*rows)\n",
    "    # for i in range(rows):\n",
    "    #     for j in range(column):\n",
    "    #         a[i][j] = int(input())\n",
    "    print(a)\n",
    "    print(np.shape(a))\n",
    "    print(np.ndim(a))\n",
    "    print(np.mean(a))\n",
    "    print(np.reshape(a,[column,rows]))\n",
    "\n",
    "nparrays(4,5)\n",
    "\n"
   ]
  },
  {
   "cell_type": "code",
   "execution_count": 43,
   "metadata": {},
   "outputs": [
    {
     "data": {
      "text/plain": [
       "array([[1, 4],\n",
       "       [2, 5],\n",
       "       [3, 6]])"
      ]
     },
     "execution_count": 43,
     "metadata": {},
     "output_type": "execute_result"
    }
   ],
   "source": [
    "arr.T"
   ]
  },
  {
   "cell_type": "code",
   "execution_count": 45,
   "metadata": {},
   "outputs": [
    {
     "data": {
      "text/plain": [
       "array([[0., 0., 0.],\n",
       "       [0., 0., 0.]])"
      ]
     },
     "execution_count": 45,
     "metadata": {},
     "output_type": "execute_result"
    }
   ],
   "source": [
    "np.zeros((2,3))"
   ]
  },
  {
   "cell_type": "code",
   "execution_count": 49,
   "metadata": {},
   "outputs": [
    {
     "data": {
      "text/plain": [
       "53"
      ]
     },
     "execution_count": 49,
     "metadata": {},
     "output_type": "execute_result"
    }
   ],
   "source": [
    "np.random.randint(100)"
   ]
  },
  {
   "cell_type": "code",
   "execution_count": 52,
   "metadata": {},
   "outputs": [
    {
     "data": {
      "text/plain": [
       "array([[45, 43, 23, 33, 42],\n",
       "       [ 0, 40, 14, 42, 32],\n",
       "       [27, 40,  0, 33, 24],\n",
       "       ...,\n",
       "       [36, 11,  0, 40, 44],\n",
       "       [28, 31, 30,  4, 46],\n",
       "       [49, 31, 35, 36,  7]])"
      ]
     },
     "execution_count": 52,
     "metadata": {},
     "output_type": "execute_result"
    }
   ],
   "source": [
    "ds_temp = np.random.randint(0,50, size=(365,5))\n",
    "ds_temp\n",
    "# np.shape(ds_temp)"
   ]
  },
  {
   "cell_type": "code",
   "execution_count": 57,
   "metadata": {},
   "outputs": [
    {
     "name": "stdout",
     "output_type": "stream",
     "text": [
      "[25.12328767 24.21917808 24.09041096 24.13972603 25.02191781]\n",
      "[0 0 0 0 0]\n"
     ]
    }
   ],
   "source": [
    "# basic statistic\n",
    "\n",
    "mean_of_cities = np.mean(ds_temp, axis = 0)\n",
    "print(mean_of_cities)\n",
    "\n",
    "lowests = np.min(ds_temp, axis = 0)\n",
    "print(lowests)\n"
   ]
  },
  {
   "cell_type": "markdown",
   "metadata": {},
   "source": [
    "You have a NumPy array temperature_data of shape (365, 5) where each row represents a day of the year and each column represents a different city. The cities in order are New York, Los Angeles, Chicago, Houston, and Phoenix.\n",
    "Tasks:\n",
    "1.\tBasic Statistics:\n",
    "○\tCalculate the mean temperature for each city over the entire year.\n",
    "○\tFind the maximum and minimum temperatures recorded for each city.\n",
    "2.\tTemperature Variability:\n",
    "○\tCompute the standard deviation of temperatures for each city.\n",
    "○\tIdentify the day with the highest temperature variability (i.e., the day with the highest difference between the maximum and minimum temperatures across all cities).\n",
    "3.\tCity-Specific Analysis:\n",
    "○\tDetermine the number of days where the temperature in New York was above 30°C.\n",
    "○\tFor Los Angeles, find the longest streak of days where the temperature was continuously below 20°C.\n",
    "4.\tComparison Between Cities:\n",
    "○\tCompare the average temperatures of Chicago and Houston to determine which city had a warmer year on average.\n",
    "○\tCalculate the correlation coefficient between the temperatures of Phoenix and Los Angeles.\n",
    "5.\tMonthly Analysis:\n",
    "○\tAssuming the data starts from January 1st, calculate the average temperature for each month for New York. (Hint: You can assume each month has a fixed number of days for simplicity: January - 31, February - 28, March - 31, April - 30, May - 31, June - 30, July - 31, August - 31, September - 30, October - 31, November - 30, December - 31).\n",
    "○\tIdentify the month with the highest average temperature for Phoenix.\n",
    "Bonus Tasks:\n",
    "●\tCreate a function to normalize the temperature data (i.e., scale the data such that the temperatures for each city have a mean of 0 and a standard deviation of 1).\n",
    "●\tWrite a function to interpolate missing data points in the dataset (if any are present). Assume that missing data points are represented by NaN values.\n"
   ]
  },
  {
   "cell_type": "code",
   "execution_count": 66,
   "metadata": {},
   "outputs": [
    {
     "name": "stdout",
     "output_type": "stream",
     "text": [
      "[14.65843551 14.46341305 14.01095623 14.49873627 14.40736348]\n",
      "<class 'numpy.ndarray'>\n",
      "1\n",
      "46\n"
     ]
    }
   ],
   "source": [
    "# Temperature variability\n",
    "\n",
    "standard_deviations_of_city=  np.std(ds_temp, axis=0)\n",
    "print(standard_deviations_of_city)\n",
    "\n",
    "\n",
    "temperature_range_per_day = np.ptp(ds_temp, axis=1)\n",
    "print(type(temperature_range_per_day))\n",
    "print(np.ndim(temperature_range_per_day))\n",
    "\n",
    "day_with_highest_variability = np.argmax(temperature_range_per_day)\n",
    "print(day_with_highest_variability)\n",
    "\n",
    "\n",
    "\n"
   ]
  },
  {
   "cell_type": "code",
   "execution_count": 68,
   "metadata": {},
   "outputs": [
    {
     "name": "stdout",
     "output_type": "stream",
     "text": [
      "144\n"
     ]
    }
   ],
   "source": [
    "# Above 30 degree celcius\n",
    "\n",
    "ny_temperatures = ds_temp[:, 0]\n",
    "\n",
    "days_above_30c_ny = np.sum(ny_temperatures > 30)\n",
    "\n",
    "print(days_above_30c_ny)\n"
   ]
  },
  {
   "cell_type": "code",
   "execution_count": 88,
   "metadata": {},
   "outputs": [
    {
     "name": "stdout",
     "output_type": "stream",
     "text": [
      "[43 40 40 41 24 11  7 45 45 27  4 35  7 28 30 36 38 34 12 25 42 24 14  6\n",
      " 49  7 45 10 33 42 49 42 31 18 47 29 33 25 41  0 47  1 25  6 28 48 49 45\n",
      " 43  4 13 11 19  0 37 44  7 16 47 46 25 13 12 41 35  4 42 33  0 20 29 39\n",
      " 23 48 14  2 13 17  2 11  6 11 44 24 42  6 27 29 12 45 35  7 21 36 18  0\n",
      " 35 43 38 31 34 34  7 42 31 37 46  5 37 23 16  7  4 25 40 33 21 16 29 48\n",
      " 47 16 17 19 32  8  6  5 38 14 27  2 17 24  2 17 38 22 36 17  1 17 35 34\n",
      " 27 11 14 23 12 26 37 11 30  5 39 23 40 29 13 39 38 43 42 32 25  3 15 37\n",
      " 41  2  8 34  5 49 42 33 31 21 48 26 42  6  8  9 35 18  4 39 26 48 12  9\n",
      " 41  9 24 39 42 32 41 23  1 45 19 26 23  7 49  4 47 16 38  4 11  4 17  7\n",
      " 24 11 18  2 32 14 17 31 21 43  1 43 48  6 34 26 39 34 23  2 30  9 24 40\n",
      "  4 16 39 39  2 43 17 35  8  9 25 43 34 32  1 33 45 28 43 46  7 21 25 21\n",
      " 12 27 34 35 45 40 42  4 28 15 14 15 32 33 21 13 36  9 12  1 28 29 29  4\n",
      " 10 26 42  8  3 32 30 12  1  2  5  0  0 47 42 20 10  5 26 24  1 16 45 37\n",
      " 37 32 42 20  6 49  9  8  2 24 45 47 16 24 18 18 12 23  8 17 31 12 32 15\n",
      " 15  9  6 17 15 22 27  9 22  0  1 26 44 27 28 27 36 49 32 27 18 25 32 35\n",
      " 14 34 11 31 31]\n",
      "8\n"
     ]
    }
   ],
   "source": [
    "la_data = ds_temp[:, 1]\n",
    "\n",
    "print(la_data)\n",
    "count = 0\n",
    "prev = 0\n",
    "maxc = count\n",
    "for data in la_data:\n",
    "    if data < 20 :\n",
    "    \n",
    "        count += 1\n",
    "        maxc = max(maxc, count)\n",
    "        \n",
    "    else:\n",
    "        count = 0   \n",
    "    \n",
    "    \n",
    "    \n",
    "\n",
    "print(maxc)"
   ]
  },
  {
   "cell_type": "code",
   "execution_count": 89,
   "metadata": {},
   "outputs": [
    {
     "name": "stdout",
     "output_type": "stream",
     "text": [
      "\n",
      "Comparison of average temperatures:\n",
      "Average temperature in Chicago: 24.09041095890411\n",
      "Average temperature in Houston: 24.13972602739726\n",
      "Houston had a warmer year on average.\n"
     ]
    }
   ],
   "source": [
    "# Chicago temperatures are in the third column (index 2)\n",
    "chi_temperatures = ds_temp[:, 2]\n",
    "\n",
    "# Houston temperatures are in the fourth column (index 3)\n",
    "hou_temperatures = ds_temp[:, 3]\n",
    "\n",
    "# Calculate average temperatures\n",
    "avg_temp_chi = np.mean(chi_temperatures)\n",
    "avg_temp_hou = np.mean(hou_temperatures)\n",
    "\n",
    "print(\"\\nComparison of average temperatures:\")\n",
    "print(f\"Average temperature in Chicago: {avg_temp_chi}\")\n",
    "print(f\"Average temperature in Houston: {avg_temp_hou}\")\n",
    "\n",
    "if avg_temp_chi > avg_temp_hou:\n",
    "    print(\"Chicago had a warmer year on average.\")\n",
    "elif avg_temp_hou > avg_temp_chi:\n",
    "    print(\"Houston had a warmer year on average.\")\n",
    "else:\n",
    "    print(\"Chicago and Houston had the same average temperature.\")\n"
   ]
  },
  {
   "cell_type": "code",
   "execution_count": 91,
   "metadata": {},
   "outputs": [
    {
     "name": "stdout",
     "output_type": "stream",
     "text": [
      "\n",
      "Correlation coefficient between Phoenix and Los Angeles temperatures: -0.11609149642662721\n"
     ]
    }
   ],
   "source": [
    "# Phoenix temperatures are in the fifth column (index 4)\n",
    "phx_temperatures = ds_temp[:, 4]\n",
    "\n",
    "# Calculate correlation coefficient between Phoenix and Los Angeles temperatures\n",
    "corr_coef = np.corrcoef(phx_temperatures, la_data)[0, 1]\n",
    "print(f\"\\nCorrelation coefficient between Phoenix and Los Angeles temperatures: {corr_coef}\")\n"
   ]
  },
  {
   "cell_type": "code",
   "execution_count": 103,
   "metadata": {},
   "outputs": [
    {
     "name": "stdout",
     "output_type": "stream",
     "text": [
      "Average temperature for each month in New York:\n",
      "Month 1: 23.096774193548388\n",
      "Month 2: 22.821428571428573\n",
      "Month 3: 27.225806451612904\n",
      "Month 4: 24.2\n",
      "Month 5: 29.161290322580644\n",
      "Month 6: 22.5\n",
      "Month 7: 25.612903225806452\n",
      "Month 8: 26.161290322580644\n",
      "Month 9: 20.133333333333333\n",
      "Month 10: 25.903225806451612\n",
      "Month 11: 27.766666666666666\n",
      "Month 12: 26.483870967741936\n",
      "\n",
      "Month with highest average temperature in Phoenix: 8\n"
     ]
    }
   ],
   "source": [
    "\n",
    "days_per_month = [31, 28, 31, 30, 31, 30, 31, 31, 30, 31, 30, 31]\n",
    "\n",
    "monthly_temps_ny = np.zeros(12)\n",
    "monthly_temps_phx = np.zeros(12)\n",
    "\n",
    "start_day = 0\n",
    "for month in range(12):\n",
    "    end_day = start_day + days_per_month[month]\n",
    "    \n",
    "    temps_ny = ds_temp[start_day:end_day, 0]  \n",
    "    temps_phx = ds_temp[start_day:end_day, 4] \n",
    "    \n",
    "    monthly_temps_ny[month] = np.mean(temps_ny)\n",
    "    monthly_temps_phx[month] = np.mean(temps_phx)\n",
    "    \n",
    "    start_day = end_day\n",
    "\n",
    "print(\"Average temperature for each month in New York:\")\n",
    "for month in range(12):\n",
    "    print(f\"Month {month+1}: {monthly_temps_ny[month]}\")\n",
    "\n",
    "hottest_month_phx = np.argmax(monthly_temps_phx)\n",
    "print(f\"\\nMonth with highest average temperature in Phoenix: {hottest_month_phx + 1}\")  \n"
   ]
  }
 ],
 "metadata": {
  "kernelspec": {
   "display_name": "Python 3",
   "language": "python",
   "name": "python3"
  },
  "language_info": {
   "codemirror_mode": {
    "name": "ipython",
    "version": 3
   },
   "file_extension": ".py",
   "mimetype": "text/x-python",
   "name": "python",
   "nbconvert_exporter": "python",
   "pygments_lexer": "ipython3",
   "version": "3.8.10"
  }
 },
 "nbformat": 4,
 "nbformat_minor": 2
}
